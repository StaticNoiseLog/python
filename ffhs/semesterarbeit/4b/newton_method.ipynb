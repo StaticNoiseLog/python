{
 "cells": [
  {
   "cell_type": "markdown",
   "metadata": {},
   "source": [
    "Semesterarbeit Teil 4b (Beat Kappert)\n",
    "=====================================\n",
    "\n",
    "Das Programm findet eine Nullstelle einer Funktion mit dem Näherungsverfahren von Newton.\n",
    "\n",
    "Drei Eingaben werden erwartet:\n",
    "1. Funktion f(x) in SymPy Syntax. Mit `<CR>` kann die Beispielfunktion `y = 3*x**3 - 4` übernommen werden.\n",
    "2. Epsilon Wert als Abbruchkriterium. Wenn ein neuer Näherungswert sich nur um Epsilon oder weniger vom vorherigen Näherungswert unterscheidet, wird das Verfahren abgebrochen.  \n",
    "Defaultwert 0.00001.\n",
    "3. Ein Startwert. Es wird überprüft, ob die erste Ableitung der Funktion an dieser Stelle 0 wird. Falls ja, muss ein anderer Wert eingegeben werden.  \n",
    "Defaultwert 1.0.\n",
    "\n",
    "Der Grossteil des Codes ist Eingabevalidierung. Das eigentliche Verfahren braucht nur wenige Zeilen. Die erste Ableitung der Funktion liefert SymPy.\n",
    "\n",
    "Die Anzahl der Iterationen ist auf 100 beschränkt, um eine Endlosschlaufe zu verweiden, wenn der Startwert unglücklich gewählt wird oder die Funktion gar keine Nullstelle hat."
   ]
  },
  {
   "cell_type": "code",
   "execution_count": 4,
   "metadata": {},
   "outputs": [
    {
     "name": "stdout",
     "output_type": "stream",
     "text": [
      "Use SymPy syntax: x-1, x*2, sqrt(x), exp(x), x**2, etc.\n"
     ]
    },
    {
     "name": "stdin",
     "output_type": "stream",
     "text": [
      "Enter a function of x [3*x**3 - 4]:  \n",
      "Epsilon criterion for ending iteration [0.00001]:  \n",
      "Starting approximate value [1.0]:  \n"
     ]
    },
    {
     "name": "stdout",
     "output_type": "stream",
     "text": [
      "1.0\n",
      "1.11111111111111\n",
      "1.10074074074074\n",
      "1.10064242508085\n",
      "\n",
      "Zero found at approximately:  1.10064241629821\n"
     ]
    }
   ],
   "source": [
    "from sympy import *\n",
    "\n",
    "x = symbols('x')\n",
    "\n",
    "function_input_incomplete = True\n",
    "while function_input_incomplete:\n",
    "    try:\n",
    "        print(\"Use SymPy syntax: x-1, x*2, sqrt(x), exp(x), x**2, etc.\")\n",
    "        function_string = input(\n",
    "            \"Enter a function of x [3*x**3 - 4]: \").strip()\n",
    "        if not function_string:\n",
    "            function_string = '3*x**3 - 4'\n",
    "        function_sympy = sympify(function_string)\n",
    "        function_input_incomplete = False\n",
    "    except (AttributeError, SympifyError) as bad_input_error:\n",
    "        print(bad_input_error)\n",
    "        pass\n",
    "\n",
    "function_sympy_first_derivative = diff(function_sympy, x)\n",
    "\n",
    "epsilon_input_incomplete = True\n",
    "while epsilon_input_incomplete:\n",
    "    epsilon_string = input(\n",
    "        'Epsilon criterion for ending iteration [0.00001]: ').strip()\n",
    "    if not epsilon_string:\n",
    "        epsilon_string = '0.00001'\n",
    "    try:\n",
    "        epsilon = float(epsilon_string)\n",
    "        epsilon_input_incomplete = False\n",
    "    except (ValueError) as bad_epsilon_string:\n",
    "        print(bad_epsilon_string)\n",
    "        continue\n",
    "\n",
    "approximate_value_input_incomplete = True\n",
    "while approximate_value_input_incomplete:\n",
    "    approximate_value_string = input(\n",
    "        'Starting approximate value [1.0]: ').strip()\n",
    "    if not approximate_value_string:\n",
    "        approximate_value_string = '1.0'\n",
    "    try:\n",
    "        approximate_value = float(approximate_value_string)\n",
    "        validation = function_sympy_first_derivative.subs(x, approximate_value)\n",
    "        if approximate_value == 0:\n",
    "            print(approximate_value,\n",
    "                  ' cannot be used as a starting value (causes divison by 0), choose something else')\n",
    "        else:\n",
    "            approximate_value_input_incomplete = False\n",
    "    except (ValueError) as bad_approximate_value_string:\n",
    "        print(bad_approximate_value_string)\n",
    "        continue\n",
    "\n",
    "approximate_value_prev = approximate_value - epsilon - 1\n",
    "iterations_allowed = 100\n",
    "while abs(approximate_value - approximate_value_prev) > epsilon:\n",
    "    iterations_allowed -= 1\n",
    "    if iterations_allowed < 0:\n",
    "        break\n",
    "    print(approximate_value)\n",
    "    # Newton method\n",
    "    approximate_value_prev = approximate_value\n",
    "    approximate_value = approximate_value_prev - function_sympy.subs(\n",
    "        x, approximate_value)/function_sympy_first_derivative.subs(x, approximate_value)\n",
    "\n",
    "print('')\n",
    "if iterations_allowed >= 0:\n",
    "    print('Zero found at approximately: ', approximate_value)\n",
    "else:\n",
    "    print('Aborted, exceeded maximum number of iterations.')"
   ]
  }
 ],
 "metadata": {
  "kernelspec": {
   "display_name": "Python 3",
   "language": "python",
   "name": "python3"
  },
  "language_info": {
   "codemirror_mode": {
    "name": "ipython",
    "version": 3
   },
   "file_extension": ".py",
   "mimetype": "text/x-python",
   "name": "python",
   "nbconvert_exporter": "python",
   "pygments_lexer": "ipython3",
   "version": "3.7.1"
  }
 },
 "nbformat": 4,
 "nbformat_minor": 2
}
