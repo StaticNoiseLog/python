{
 "cells": [
  {
   "cell_type": "markdown",
   "metadata": {},
   "source": [
    "Semesterarbeit Teil 3, Programm 2 (Beat Kappert)\n",
    "=================================\n",
    "\n",
    "Das Programm erwartet die Eingabe einer Original-Funktion in SymPy Syntax. Diese soll durch verschiedene Interpolationsvarianten angenähert werden.\n",
    "Bei leerer Eingabe (CR) wird diese Beispiel-Funktion verwendet:\n",
    "\n",
    "    x**3 - 3*x**2   \n",
    "\n",
    "Es werden 10 Stützpunkte im Intervall `[-5, 5]` bestimmt, die auf der Original-Funktion liegen. Die Stützpunkte bei x=-5 und x=5 gehören dazu. Die restlichen 8 sind gleichmässig dazwischen verteilt. (Es kommt die NumPy Funktion `r_` zum Einsatz, die für diese Zwecke wie ein schnelles `linspace` funkctioniert.)\n",
    "\n",
    "Mit den 10 Stützpunkten werden mit der SymPy Funktion `interp1d` Interpolationen gerechnet. Dies geschieht mit diesen Algorithmen:\n",
    "- nearest\n",
    "- zero\n",
    "- slinear\n",
    "- linear\n",
    "- quadratic\n",
    "- cubic\n",
    "\n",
    "Gezeichnet wird:\n",
    "- Die Stützpunkte als schwarze Kreise\n",
    "- Die Original-Funktion\n",
    "- Die 6 Interpolationen\n",
    "\n"
   ]
  },
  {
   "cell_type": "code",
   "execution_count": null,
   "metadata": {},
   "outputs": [],
   "source": [
    "import numpy as np\n",
    "import matplotlib.pyplot as plt\n",
    "from scipy import interpolate\n",
    "import sympy as sym"
   ]
  },
  {
   "cell_type": "code",
   "execution_count": null,
   "metadata": {},
   "outputs": [],
   "source": [
    "x = sym.symbols('x')\n",
    "\n",
    "print(\"Use SymPy syntax: x-1, x*2, sqrt(x), exp(x), x**2, etc.\")\n",
    "function_string = input(\"Enter a function of x [x**3 - 3*x**2]: \").strip()\n",
    "if not function_string:\n",
    "    function_string = 'x**3 - 3*x**2'\n",
    "\n",
    "function_sympy = sym.sympify(function_string)\n",
    "function_lambda = sym.lambdify(x, function_sympy, \"numpy\")"
   ]
  },
  {
   "cell_type": "code",
   "execution_count": null,
   "metadata": {},
   "outputs": [],
   "source": [
    "support_points_x = np.r_[-5:5:10j]\n",
    "support_points_y = function_lambda(support_points_x)\n",
    "\n",
    "# plot support points\n",
    "plt.scatter(support_points_x, support_points_y, c=\"k\")\n",
    "\n",
    "x_axis = np.r_[-5:5:200j]\n",
    "\n",
    "# plot original function\n",
    "y_values = function_lambda(x_axis)\n",
    "plt.plot(x_axis, y_values, label=function_string + \" [original]\")\n",
    "\n",
    "# plot interpolated graphs\n",
    "for kind in ['nearest', 'zero', 'slinear', 'linear', 'quadratic', 'cubic']:\n",
    "    function_interpolated = interpolate.interp1d(\n",
    "        support_points_x, support_points_y, kind=kind)\n",
    "    y_values_interpolated = function_interpolated(x_axis)\n",
    "    plt.plot(x_axis, y_values_interpolated, label=kind)\n",
    "\n",
    "plt.legend()"
   ]
  }
 ],
 "metadata": {
  "kernelspec": {
   "display_name": "Python 3",
   "language": "python",
   "name": "python3"
  },
  "language_info": {
   "codemirror_mode": {
    "name": "ipython",
    "version": 3
   },
   "file_extension": ".py",
   "mimetype": "text/x-python",
   "name": "python",
   "nbconvert_exporter": "python",
   "pygments_lexer": "ipython3",
   "version": "3.7.1"
  }
 },
 "nbformat": 4,
 "nbformat_minor": 2
}
