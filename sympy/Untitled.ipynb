{
 "cells": [
  {
   "cell_type": "code",
   "execution_count": 3,
   "metadata": {},
   "outputs": [
    {
     "data": {
      "image/png": "[encoded data removed]",
      "text/latex": [
       "$$3 x^{2}$$"
      ],
      "text/plain": [
       "   2\n",
       "3⋅x "
      ]
     },
     "execution_count": 3,
     "metadata": {},
     "output_type": "execute_result"
    }
   ],
   "source": [
    "import sympy as sp\n",
    "x = sp.Symbol('x')\n",
    "y = sp.Symbol('y')  # lowercase works\n",
    "# x, y = symbols('x y') # shortcut\n",
    "\n",
    "x**2\n",
    "\n",
    "sp.init_printing()  # generate solution in LaTex\n",
    "\n",
    "x**2\n",
    "\n",
    "(x**5).diff()\n",
    "(x**5).diff(x)  # explicit\n",
    "\n",
    "(x**3 * y**4).diff(y)\n",
    "\n",
    "(x**3 + y**4).diff(x)"
   ]
  },
  {
   "cell_type": "code",
   "execution_count": null,
   "metadata": {},
   "outputs": [],
   "source": []
  },
  {
   "cell_type": "code",
   "execution_count": 4,
   "metadata": {},
   "outputs": [
    {
     "data": {
      "image/png": "[encoded data removed]",
      "text/latex": [
       "$$x^{5} + 5 x^{4} y + 10 x^{3} y^{2} + 10 x^{2} y^{3} + 5 x y^{4} + y^{5}$$"
      ],
      "text/plain": [
       " 5      4         3  2       2  3        4    5\n",
       "x  + 5⋅x ⋅y + 10⋅x ⋅y  + 10⋅x ⋅y  + 5⋅x⋅y  + y "
      ]
     },
     "execution_count": 4,
     "metadata": {},
     "output_type": "execute_result"
    }
   ],
   "source": [
    "((x+y)**5).expand()"
   ]
  },
  {
   "cell_type": "code",
   "execution_count": 5,
   "metadata": {},
   "outputs": [
    {
     "data": {
      "image/png": "[encoded data removed]",
      "text/latex": [
       "$$- \\left(x - y\\right)^{2} + \\left(x + y\\right)^{2}$$"
      ],
      "text/plain": [
       "         2          2\n",
       "- (x - y)  + (x + y) "
      ]
     },
     "execution_count": 5,
     "metadata": {},
     "output_type": "execute_result"
    }
   ],
   "source": [
    "di = (x+y)**2 - (x-y)**2; di"
   ]
  },
  {
   "cell_type": "code",
   "execution_count": 6,
   "metadata": {},
   "outputs": [
    {
     "data": {
      "image/png": "[encoded data removed]",
      "text/latex": [
       "$$4 x y$$"
      ],
      "text/plain": [
       "4⋅x⋅y"
      ]
     },
     "execution_count": 6,
     "metadata": {},
     "output_type": "execute_result"
    }
   ],
   "source": [
    "di.simplify()"
   ]
  },
  {
   "cell_type": "markdown",
   "metadata": {},
   "source": [
    "### Gleichungen ###\n"
   ]
  },
  {
   "cell_type": "code",
   "execution_count": 12,
   "metadata": {},
   "outputs": [],
   "source": [
    "b, c, d = sp.symbols('b c d')"
   ]
  },
  {
   "cell_type": "code",
   "execution_count": 10,
   "metadata": {},
   "outputs": [
    {
     "data": {
      "image/png": "[encoded data removed]",
      "text/latex": [
       "$$\\left [ - \\frac{b}{2} - \\frac{\\sqrt{b^{2} - 4 c}}{2}, \\quad - \\frac{b}{2} + \\frac{\\sqrt{b^{2} - 4 c}}{2}\\right ]$$"
      ],
      "text/plain": [
       "⎡         __________           __________⎤\n",
       "⎢        ╱  2                 ╱  2       ⎥\n",
       "⎢  b   ╲╱  b  - 4⋅c     b   ╲╱  b  - 4⋅c ⎥\n",
       "⎢- ─ - ─────────────, - ─ + ─────────────⎥\n",
       "⎣  2         2          2         2      ⎦"
      ]
     },
     "execution_count": 10,
     "metadata": {},
     "output_type": "execute_result"
    }
   ],
   "source": [
    "sp.solve(x**2 + b*x + c, x)"
   ]
  },
  {
   "cell_type": "code",
   "execution_count": 13,
   "metadata": {},
   "outputs": [
    {
     "name": "stdout",
     "output_type": "stream",
     "text": [
      "b*x**2 + c*x + d + x**3\n"
     ]
    },
    {
     "data": {
      "image/png": "[encoded data removed]",
      "text/latex": [
       "$$\\left [ - \\frac{b}{3} - \\frac{b^{2} - 3 c}{3 \\sqrt[3]{b^{3} - \\frac{9 b c}{2} + \\frac{27 d}{2} + \\frac{\\sqrt{- 4 \\left(b^{2} - 3 c\\right)^{3} + \\left(2 b^{3} - 9 b c + 27 d\\right)^{2}}}{2}}} - \\frac{\\sqrt[3]{b^{3} - \\frac{9 b c}{2} + \\frac{27 d}{2} + \\frac{\\sqrt{- 4 \\left(b^{2} - 3 c\\right)^{3} + \\left(2 b^{3} - 9 b c + 27 d\\right)^{2}}}{2}}}{3}, \\quad - \\frac{b}{3} - \\frac{b^{2} - 3 c}{3 \\left(- \\frac{1}{2} - \\frac{\\sqrt{3} i}{2}\\right) \\sqrt[3]{b^{3} - \\frac{9 b c}{2} + \\frac{27 d}{2} + \\frac{\\sqrt{- 4 \\left(b^{2} - 3 c\\right)^{3} + \\left(2 b^{3} - 9 b c + 27 d\\right)^{2}}}{2}}} - \\frac{\\left(- \\frac{1}{2} - \\frac{\\sqrt{3} i}{2}\\right) \\sqrt[3]{b^{3} - \\frac{9 b c}{2} + \\frac{27 d}{2} + \\frac{\\sqrt{- 4 \\left(b^{2} - 3 c\\right)^{3} + \\left(2 b^{3} - 9 b c + 27 d\\right)^{2}}}{2}}}{3}, \\quad - \\frac{b}{3} - \\frac{b^{2} - 3 c}{3 \\left(- \\frac{1}{2} + \\frac{\\sqrt{3} i}{2}\\right) \\sqrt[3]{b^{3} - \\frac{9 b c}{2} + \\frac{27 d}{2} + \\frac{\\sqrt{- 4 \\left(b^{2} - 3 c\\right)^{3} + \\left(2 b^{3} - 9 b c + 27 d\\right)^{2}}}{2}}} - \\frac{\\left(- \\frac{1}{2} + \\frac{\\sqrt{3} i}{2}\\right) \\sqrt[3]{b^{3} - \\frac{9 b c}{2} + \\frac{27 d}{2} + \\frac{\\sqrt{- 4 \\left(b^{2} - 3 c\\right)^{3} + \\left(2 b^{3} - 9 b c + 27 d\\right)^{2}}}{2}}}{3}\\right ]$$"
      ],
      "text/plain": [
       "⎡                                                                             \n",
       "⎢                                                                             \n",
       "⎢                                                                             \n",
       "⎢                                                                             \n",
       "⎢                                                                             \n",
       "⎢                                          2                                  \n",
       "⎢  b                                      b  - 3⋅c                            \n",
       "⎢- ─ - ───────────────────────────────────────────────────────────────────────\n",
       "⎢  3            ______________________________________________________________\n",
       "⎢              ╱                         _____________________________________\n",
       "⎢             ╱                         ╱               3                     \n",
       "⎢            ╱                         ╱      ⎛ 2      ⎞    ⎛   3             \n",
       "⎢           ╱     3   9⋅b⋅c   27⋅d   ╲╱   - 4⋅⎝b  - 3⋅c⎠  + ⎝2⋅b  - 9⋅b⋅c + 27\n",
       "⎢      3⋅3 ╱     b  - ───── + ──── + ─────────────────────────────────────────\n",
       "⎣        ╲╱             2      2                           2                  \n",
       "\n",
       "                ______________________________________________________________\n",
       "               ╱                         _____________________________________\n",
       "              ╱                         ╱               3                     \n",
       "             ╱                         ╱      ⎛ 2      ⎞    ⎛   3             \n",
       "            ╱     3   9⋅b⋅c   27⋅d   ╲╱   - 4⋅⎝b  - 3⋅c⎠  + ⎝2⋅b  - 9⋅b⋅c + 27\n",
       "         3 ╱     b  - ───── + ──── + ─────────────────────────────────────────\n",
       "         ╲╱             2      2                           2                  \n",
       "────── - ─────────────────────────────────────────────────────────────────────\n",
       "______                                        3                               \n",
       "_____                                                                         \n",
       "   2                                                                          \n",
       "  ⎞                                                                           \n",
       "⋅d⎠                                                                           \n",
       "─────                                                                         \n",
       "                                                                              \n",
       "\n",
       "______                                                                        \n",
       "_____                                                                         \n",
       "   2                                                                          \n",
       "  ⎞                                                                           \n",
       "⋅d⎠                                                                           \n",
       "─────                                                   2                     \n",
       "          b                                            b  - 3⋅c               \n",
       "──────, - ─ - ────────────────────────────────────────────────────────────────\n",
       "          3                         __________________________________________\n",
       "                                   ╱                         _________________\n",
       "                                  ╱                         ╱               3 \n",
       "                                 ╱                         ╱      ⎛ 2      ⎞  \n",
       "                ⎛  1   √3⋅ⅈ⎞    ╱     3   9⋅b⋅c   27⋅d   ╲╱   - 4⋅⎝b  - 3⋅c⎠  \n",
       "              3⋅⎜- ─ - ────⎟⋅3 ╱     b  - ───── + ──── + ─────────────────────\n",
       "                ⎝  2    2  ⎠ ╲╱             2      2                          \n",
       "\n",
       "                                                 _____________________________\n",
       "                                                ╱                         ____\n",
       "                                               ╱                         ╱    \n",
       "                                              ╱                         ╱     \n",
       "                             ⎛  1   √3⋅ⅈ⎞    ╱     3   9⋅b⋅c   27⋅d   ╲╱   - 4\n",
       "                             ⎜- ─ - ────⎟⋅3 ╱     b  - ───── + ──── + ────────\n",
       "                             ⎝  2    2  ⎠ ╲╱             2      2             \n",
       "────────────────────────── - ─────────────────────────────────────────────────\n",
       "__________________________                                              3     \n",
       "_________________________                                                     \n",
       "                       2                                                      \n",
       "  ⎛   3               ⎞                                                       \n",
       "+ ⎝2⋅b  - 9⋅b⋅c + 27⋅d⎠                                                       \n",
       "─────────────────────────                                                     \n",
       " 2                                                                            \n",
       "\n",
       "_______________________________________                                       \n",
       "______________________________________                                        \n",
       "           3                        2                                         \n",
       " ⎛ 2      ⎞    ⎛   3               ⎞                                          \n",
       "⋅⎝b  - 3⋅c⎠  + ⎝2⋅b  - 9⋅b⋅c + 27⋅d⎠                                          \n",
       "──────────────────────────────────────                                        \n",
       "              2                            b                                  \n",
       "───────────────────────────────────────, - ─ - ───────────────────────────────\n",
       "                                           3                         _________\n",
       "                                                                    ╱         \n",
       "                                                                   ╱          \n",
       "                                                                  ╱           \n",
       "                                                 ⎛  1   √3⋅ⅈ⎞    ╱     3   9⋅b\n",
       "                                               3⋅⎜- ─ + ────⎟⋅3 ╱     b  - ───\n",
       "                                                 ⎝  2    2  ⎠ ╲╱             2\n",
       "\n",
       "                                                                              \n",
       "                                                                              \n",
       "                                                                              \n",
       "                                                                              \n",
       "                                                              ⎛  1   √3⋅ⅈ⎞    \n",
       "           2                                                  ⎜- ─ + ────⎟⋅3 ╱\n",
       "          b  - 3⋅c                                            ⎝  2    2  ⎠ ╲╱ \n",
       "─────────────────────────────────────────────────────────── - ────────────────\n",
       "___________________________________________________________                   \n",
       "                __________________________________________                    \n",
       "               ╱               3                        2                     \n",
       "              ╱      ⎛ 2      ⎞    ⎛   3               ⎞                      \n",
       "⋅c   27⋅d   ╲╱   - 4⋅⎝b  - 3⋅c⎠  + ⎝2⋅b  - 9⋅b⋅c + 27⋅d⎠                      \n",
       "── + ──── + ──────────────────────────────────────────────                    \n",
       "      2                           2                                           \n",
       "\n",
       "    ____________________________________________________________________⎤\n",
       "   ╱                         __________________________________________ ⎥\n",
       "  ╱                         ╱               3                        2  ⎥\n",
       " ╱                         ╱      ⎛ 2      ⎞    ⎛   3               ⎞   ⎥\n",
       "╱     3   9⋅b⋅c   27⋅d   ╲╱   - 4⋅⎝b  - 3⋅c⎠  + ⎝2⋅b  - 9⋅b⋅c + 27⋅d⎠   ⎥\n",
       "     b  - ───── + ──── + ────────────────────────────────────────────── ⎥\n",
       "            2      2                           2                        ⎥\n",
       "────────────────────────────────────────────────────────────────────────⎥\n",
       "                           3                                            ⎥\n",
       "                                                                        ⎥\n",
       "                                                                        ⎥\n",
       "                                                                        ⎥\n",
       "                                                                        ⎥\n",
       "                                                                        ⎥\n",
       "                                                                        ⎦"
      ]
     },
     "execution_count": 13,
     "metadata": {},
     "output_type": "execute_result"
    }
   ],
   "source": [
    "print(x**3 + b*x**2 + c*x + d)\n",
    "sp.solve(x**3 + b*x**2 + c*x + d, x)"
   ]
  },
  {
   "cell_type": "markdown",
   "metadata": {},
   "source": [
    "Da oben steht die Lösungsformel für eine kubische Gleichung :-)"
   ]
  },
  {
   "cell_type": "markdown",
   "metadata": {},
   "source": [
    "# Grenzwerte mit Sympy"
   ]
  },
  {
   "cell_type": "code",
   "execution_count": 15,
   "metadata": {},
   "outputs": [
    {
     "data": {
      "image/png": "[encoded data removed]",
      "text/latex": [
       "$$1$$"
      ],
      "text/plain": [
       "1"
      ]
     },
     "execution_count": 15,
     "metadata": {},
     "output_type": "execute_result"
    }
   ],
   "source": [
    "sp.limit((x+1)/x, x, sp.oo) # sp.oo -> x gegen Unendlich"
   ]
  },
  {
   "cell_type": "code",
   "execution_count": 17,
   "metadata": {},
   "outputs": [
    {
     "data": {
      "image/png": "[encoded data removed]",
      "text/latex": [
       "$$1$$"
      ],
      "text/plain": [
       "1"
      ]
     },
     "execution_count": 17,
     "metadata": {},
     "output_type": "execute_result"
    }
   ],
   "source": [
    "sp.limit(sp.sin(x)/x, x, 0) # x gegen 0"
   ]
  },
  {
   "cell_type": "code",
   "execution_count": 18,
   "metadata": {},
   "outputs": [
    {
     "data": {
      "image/png": "[encoded data removed]",
      "text/latex": [
       "$$\\langle -1, 1\\rangle$$"
      ],
      "text/plain": [
       "<-1, 1>"
      ]
     },
     "execution_count": 18,
     "metadata": {},
     "output_type": "execute_result"
    }
   ],
   "source": [
    "sp.limit(sp.sin(1/x), x, 0) # gibt ein Intervall"
   ]
  },
  {
   "cell_type": "code",
   "execution_count": null,
   "metadata": {},
   "outputs": [],
   "source": []
  },
  {
   "cell_type": "code",
   "execution_count": 22,
   "metadata": {},
   "outputs": [],
   "source": [
    "import numpy as np\n",
    "import matplotlib.pyplot as mpl"
   ]
  },
  {
   "cell_type": "code",
   "execution_count": 23,
   "metadata": {},
   "outputs": [
    {
     "name": "stderr",
     "output_type": "stream",
     "text": [
      "C:\\ProgramData\\Anaconda3\\lib\\site-packages\\ipykernel_launcher.py:2: RuntimeWarning: divide by zero encountered in true_divide\n",
      "  \n",
      "C:\\ProgramData\\Anaconda3\\lib\\site-packages\\ipykernel_launcher.py:2: RuntimeWarning: invalid value encountered in sin\n",
      "  \n"
     ]
    },
    {
     "data": {
      "text/plain": [
       "[<matplotlib.lines.Line2D at 0x211fbfa3748>]"
      ]
     },
     "execution_count": 23,
     "metadata": {},
     "output_type": "execute_result"
    },
    {
     "data": {
      "image/png": "[encoded data removed]",
      "text/plain": [
       "<Figure size 432x288 with 1 Axes>"
      ]
     },
     "metadata": {
      "needs_background": "light"
     },
     "output_type": "display_data"
    }
   ],
   "source": [
    "xxx = np.linspace(-1,1,1001)\n",
    "mpl.plot(xxx, np.sin(1/xxx))"
   ]
  },
  {
   "cell_type": "code",
   "execution_count": 24,
   "metadata": {},
   "outputs": [
    {
     "name": "stderr",
     "output_type": "stream",
     "text": [
      "C:\\ProgramData\\Anaconda3\\lib\\site-packages\\ipykernel_launcher.py:1: RuntimeWarning: divide by zero encountered in true_divide\n",
      "  \"\"\"Entry point for launching an IPython kernel.\n",
      "C:\\ProgramData\\Anaconda3\\lib\\site-packages\\ipykernel_launcher.py:1: RuntimeWarning: invalid value encountered in sin\n",
      "  \"\"\"Entry point for launching an IPython kernel.\n"
     ]
    },
    {
     "data": {
      "text/plain": [
       "[<matplotlib.lines.Line2D at 0x211fd077828>]"
      ]
     },
     "execution_count": 24,
     "metadata": {},
     "output_type": "execute_result"
    },
    {
     "data": {
      "image/png": "[encoded data removed]",
      "text/plain": [
       "<Figure size 432x288 with 1 Axes>"
      ]
     },
     "metadata": {
      "needs_background": "light"
     },
     "output_type": "display_data"
    }
   ],
   "source": [
    "mpl.plot(xxx, xxx * np.sin(1/xxx))"
   ]
  },
  {
   "cell_type": "code",
   "execution_count": 25,
   "metadata": {},
   "outputs": [
    {
     "data": {
      "image/png": "[encoded data removed]",
      "text/latex": [
       "$$0$$"
      ],
      "text/plain": [
       "0"
      ]
     },
     "execution_count": 25,
     "metadata": {},
     "output_type": "execute_result"
    }
   ],
   "source": [
    "sp.limit(x*sp.sin(1/x), x, 0) "
   ]
  },
  {
   "cell_type": "code",
   "execution_count": 27,
   "metadata": {},
   "outputs": [
    {
     "ename": "NameError",
     "evalue": "name 'expr' is not defined",
     "output_type": "error",
     "traceback": [
      "\u001b[1;31m---------------------------------------------------------------------------\u001b[0m",
      "\u001b[1;31mNameError\u001b[0m                                 Traceback (most recent call last)",
      "\u001b[1;32m<ipython-input-27-961d892cb27c>\u001b[0m in \u001b[0;36m<module>\u001b[1;34m\u001b[0m\n\u001b[1;32m----> 1\u001b[1;33m \u001b[0msp\u001b[0m\u001b[1;33m.\u001b[0m\u001b[0mlimit\u001b[0m\u001b[1;33m(\u001b[0m\u001b[0mexpr\u001b[0m\u001b[1;33m,\u001b[0m \u001b[0mx\u001b[0m\u001b[1;33m,\u001b[0m \u001b[1;36m0\u001b[0m\u001b[1;33m,\u001b[0m \u001b[0mdir\u001b[0m\u001b[1;33m=\u001b[0m\u001b[1;34m'+'\u001b[0m\u001b[1;33m)\u001b[0m \u001b[1;31m# Grenzwert von oben\u001b[0m\u001b[1;33m\u001b[0m\u001b[1;33m\u001b[0m\u001b[0m\n\u001b[0m",
      "\u001b[1;31mNameError\u001b[0m: name 'expr' is not defined"
     ]
    }
   ],
   "source": [
    "sp.limit(expr, x, 0, dir='+') # Grenzwert von oben"
   ]
  },
  {
   "cell_type": "code",
   "execution_count": null,
   "metadata": {},
   "outputs": [],
   "source": [
    "sp.limimt(expr, x, 0, dir='-') # Grenzwert von unten\n",
    "sp.limimt(expr, x, 0, dir='+-') # Grenzwert von unten"
   ]
  },
  {
   "cell_type": "code",
   "execution_count": null,
   "metadata": {},
   "outputs": [],
   "source": [
    "mpl.plot(xxx, 1 /1 (1 + np.exp()))"
   ]
  }
 ],
 "metadata": {
  "kernelspec": {
   "display_name": "Python 3",
   "language": "python",
   "name": "python3"
  },
  "language_info": {
   "codemirror_mode": {
    "name": "ipython",
    "version": 3
   },
   "file_extension": ".py",
   "mimetype": "text/x-python",
   "name": "python",
   "nbconvert_exporter": "python",
   "pygments_lexer": "ipython3",
   "version": "3.7.1"
  }
 },
 "nbformat": 4,
 "nbformat_minor": 2
}
